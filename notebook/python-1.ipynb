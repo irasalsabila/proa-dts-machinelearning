{
 "cells": [
  {
   "cell_type": "markdown",
   "metadata": {},
   "source": [
    "Nama    : SALSABILA ZAHIRAH PRANIDA\n",
    "\n",
    "No. ID  : 152236035100-282"
   ]
  },
  {
   "cell_type": "markdown",
   "metadata": {},
   "source": [
    "### Python 1\n",
    "\n",
    "Date: 18th of May 2022\n",
    "\n",
    "Outcome:\n",
    "- Expression, variables, function, conditionals\n",
    "- String, List, Dictionary\n",
    "- Loop, While"
   ]
  },
  {
   "cell_type": "markdown",
   "metadata": {},
   "source": [
    "##### data type"
   ]
  },
  {
   "cell_type": "code",
   "execution_count": 2,
   "metadata": {},
   "outputs": [
    {
     "name": "stdout",
     "output_type": "stream",
     "text": [
      "10 bertipe <class 'int'>\n"
     ]
    }
   ],
   "source": [
    "a = 10 # integer\n",
    "print(a, \"bertipe\", type(a))"
   ]
  },
  {
   "cell_type": "code",
   "execution_count": 3,
   "metadata": {},
   "outputs": [
    {
     "name": "stdout",
     "output_type": "stream",
     "text": [
      "Toni bertipe <class 'str'>\n"
     ]
    }
   ],
   "source": [
    "nama = 'Toni' # string\n",
    "print(nama, \"bertipe\", type(nama))"
   ]
  },
  {
   "cell_type": "code",
   "execution_count": 4,
   "metadata": {},
   "outputs": [
    {
     "name": "stdout",
     "output_type": "stream",
     "text": [
      "False bertipe <class 'bool'>\n"
     ]
    }
   ],
   "source": [
    "hasil = False # boolean\n",
    "print(hasil, \"bertipe\", type(hasil))"
   ]
  },
  {
   "cell_type": "code",
   "execution_count": 5,
   "metadata": {},
   "outputs": [
    {
     "name": "stdout",
     "output_type": "stream",
     "text": [
      "25.987 bertipe <class 'float'>\n"
     ]
    }
   ],
   "source": [
    "b = 25.987 # float\n",
    "print(b , \"bertipe\", type(b))"
   ]
  },
  {
   "cell_type": "code",
   "execution_count": 6,
   "metadata": {},
   "outputs": [
    {
     "name": "stdout",
     "output_type": "stream",
     "text": [
      "(2+3j) bertipe <class 'complex'>\n"
     ]
    }
   ],
   "source": [
    "c = complex(2+3j) # complex\n",
    "print(c , \"bertipe\", type(c))"
   ]
  },
  {
   "cell_type": "code",
   "execution_count": 7,
   "metadata": {},
   "outputs": [
    {
     "name": "stdout",
     "output_type": "stream",
     "text": [
      "Tono bertipe <class 'str'>\n"
     ]
    }
   ],
   "source": [
    "a = 9 # integer\n",
    "a = 'Tono' # string\n",
    "print(a, \"bertipe\", type(a))"
   ]
  },
  {
   "cell_type": "markdown",
   "metadata": {},
   "source": [
    "#### operation"
   ]
  },
  {
   "cell_type": "code",
   "execution_count": 8,
   "metadata": {},
   "outputs": [
    {
     "name": "stdout",
     "output_type": "stream",
     "text": [
      "6\n"
     ]
    }
   ],
   "source": [
    "print(3+3) # addition"
   ]
  },
  {
   "cell_type": "code",
   "execution_count": 9,
   "metadata": {},
   "outputs": [
    {
     "name": "stdout",
     "output_type": "stream",
     "text": [
      "9\n"
     ]
    }
   ],
   "source": [
    "print(3*3) # multiply"
   ]
  },
  {
   "cell_type": "code",
   "execution_count": 12,
   "metadata": {},
   "outputs": [
    {
     "name": "stdout",
     "output_type": "stream",
     "text": [
      "27\n"
     ]
    }
   ],
   "source": [
    "print(3**3) # exponent"
   ]
  },
  {
   "cell_type": "code",
   "execution_count": 11,
   "metadata": {},
   "outputs": [
    {
     "name": "stdout",
     "output_type": "stream",
     "text": [
      "3.0\n"
     ]
    }
   ],
   "source": [
    "print(9/3) # division"
   ]
  },
  {
   "cell_type": "code",
   "execution_count": 13,
   "metadata": {},
   "outputs": [
    {
     "name": "stdout",
     "output_type": "stream",
     "text": [
      "4\n"
     ]
    }
   ],
   "source": [
    "print(25%7) # modulus [%] -> sisa pembagian"
   ]
  },
  {
   "cell_type": "code",
   "execution_count": 14,
   "metadata": {},
   "outputs": [
    {
     "name": "stdout",
     "output_type": "stream",
     "text": [
      "4\n",
      "2\n",
      "5\n"
     ]
    }
   ],
   "source": [
    "print(max(2,3,4)) # maximum number\n",
    "print(min(2,3,4)) # minumum number\n",
    "print(round(5.49)) # floor float"
   ]
  },
  {
   "cell_type": "code",
   "execution_count": 15,
   "metadata": {},
   "outputs": [
    {
     "name": "stdout",
     "output_type": "stream",
     "text": [
      "3.0\n"
     ]
    }
   ],
   "source": [
    "print(9**(1/2)) # 9 exponent to 0.5"
   ]
  },
  {
   "cell_type": "markdown",
   "metadata": {},
   "source": [
    "#### string"
   ]
  },
  {
   "cell_type": "code",
   "execution_count": 18,
   "metadata": {},
   "outputs": [
    {
     "name": "stdout",
     "output_type": "stream",
     "text": [
      "Hello World\n",
      "Welcome to Python\n"
     ]
    }
   ],
   "source": [
    "# simple print string\n",
    "print(\"Hello World\")\n",
    "print(\"Welcome to Python\")"
   ]
  },
  {
   "cell_type": "code",
   "execution_count": 20,
   "metadata": {},
   "outputs": [
    {
     "name": "stdout",
     "output_type": "stream",
     "text": [
      "this is a long string that is made up of several lines and non-printable characters such as TAB ( \t ) and they will show up that way when displayed. NEWLINEs within the string, whether explicitly given like this within the brackets [ \n",
      " ], or just a NEWLINE within the variable assignment will also show up.\n"
     ]
    }
   ],
   "source": [
    "# long string\n",
    "kutipantiga = \"\"\"this is a long string that is made up of several lines and non-printable characters such as TAB ( \\t ) and they will show up that way when displayed. NEWLINEs within the string, whether explicitly given like this within the brackets [ \\n ], or just a NEWLINE within the variable assignment will also show up.\"\"\"\n",
    "print(kutipantiga)"
   ]
  },
  {
   "cell_type": "code",
   "execution_count": 21,
   "metadata": {},
   "outputs": [
    {
     "name": "stdout",
     "output_type": "stream",
     "text": [
      "Nama aku Toni\n",
      "Umur saya 120\n",
      "Toni adalah namaku.\n",
      "120 adalah umurku.\n",
      "nama  Toni umur  120\n"
     ]
    }
   ],
   "source": [
    "nama = \"Toni\" \n",
    "umur = 120\n",
    "print(\"Nama aku \" + nama)\n",
    "print(\"Umur saya \" + str(umur))\n",
    "print(nama + \" adalah namaku.\")\n",
    "print(str(umur) + \" adalah umurku.\")\n",
    "print('nama ', nama, 'umur ', umur)"
   ]
  },
  {
   "cell_type": "code",
   "execution_count": 22,
   "metadata": {},
   "outputs": [
    {
     "name": "stdout",
     "output_type": "stream",
     "text": [
      "2090\n"
     ]
    }
   ],
   "source": [
    "a = 20\n",
    "b = 90\n",
    "print (str(a) + str(b))"
   ]
  },
  {
   "cell_type": "code",
   "execution_count": 23,
   "metadata": {},
   "outputs": [
    {
     "name": "stdout",
     "output_type": "stream",
     "text": [
      "Nama aku Toni\n",
      "Umur saya 120\n",
      "Bella adalah namaku.\n",
      "Bella namaku.\n"
     ]
    }
   ],
   "source": [
    "nama = \"Toni\"\n",
    "umur = 120\n",
    "print(\"Nama aku \" + nama)\n",
    "print(\"Umur saya \" + str(umur))\n",
    "nama = \"Bella\" # => variable name has a new value\n",
    "print(nama + \" adalah namaku.\")\n",
    "print(nama + \" namaku.\")"
   ]
  },
  {
   "cell_type": "code",
   "execution_count": 24,
   "metadata": {},
   "outputs": [
    {
     "name": "stdout",
     "output_type": "stream",
     "text": [
      "BELLA\n",
      "bella\n",
      "Bella\n",
      "False\n",
      "False\n",
      "5\n",
      "ell\n",
      "2\n"
     ]
    }
   ],
   "source": [
    "name = \"Bella\"\n",
    "#       01234\n",
    "print(name.upper())\n",
    "print(name.lower())\n",
    "print(name.capitalize())\n",
    "print(name.isupper())\n",
    "print(name.islower())\n",
    "print(len(name))\n",
    "print(name[1:4])\n",
    "#index selalu mulai dari 0\n",
    "print(name.index(\"l\"))"
   ]
  },
  {
   "cell_type": "markdown",
   "metadata": {},
   "source": [
    "#### function"
   ]
  },
  {
   "cell_type": "code",
   "execution_count": 26,
   "metadata": {},
   "outputs": [
    {
     "name": "stdout",
     "output_type": "stream",
     "text": [
      "Perkenalkan saya Alvin dari Jawa Timur\n"
     ]
    }
   ],
   "source": [
    "def perkenalan (nama, asal): # (xxx) -> parameter\n",
    "  print(f\"Perkenalkan saya {nama} dari {asal}\")\n",
    "\n",
    "perkenalan(\"Alvin\", \"Jawa Timur\")"
   ]
  },
  {
   "cell_type": "code",
   "execution_count": 27,
   "metadata": {},
   "outputs": [
    {
     "name": "stdout",
     "output_type": "stream",
     "text": [
      "Luas segitiga = 9.0\n"
     ]
    }
   ],
   "source": [
    "def luasSegitiga (alas, tinggi):\n",
    "    luas = (alas * tinggi)/2\n",
    "    print(\"Luas segitiga =\",luas)\n",
    "\n",
    "luasSegitiga(3,6)"
   ]
  },
  {
   "cell_type": "markdown",
   "metadata": {},
   "source": [
    "#### if else"
   ]
  },
  {
   "cell_type": "code",
   "execution_count": 33,
   "metadata": {},
   "outputs": [
    {
     "name": "stdout",
     "output_type": "stream",
     "text": [
      "['A', 'B', 'C']\n",
      "A\n",
      "C\n",
      "['B', 'C']\n",
      "['A', 'B']\n"
     ]
    }
   ],
   "source": [
    "friends = [\"A\", \"B\", \"C\"]\n",
    "print(friends)            #[\"A\", \"B\", \"C\"]\n",
    "print(friends[0])         #A; the first array\n",
    "print(friends[-1])        #C; the last array\n",
    "print(friends[1:])        #[\"B\", \"C\"]; the 2nd array to last\n",
    "print(friends[0:2])       #[\"A\", \"B\"]; from the first array index to 2nd index"
   ]
  },
  {
   "cell_type": "code",
   "execution_count": 34,
   "metadata": {},
   "outputs": [
    {
     "name": "stdout",
     "output_type": "stream",
     "text": [
      "['A', 'B', 'C', 1, 2, 3]\n"
     ]
    }
   ],
   "source": [
    "X = [\"A\", \"B\", \"C\"]\n",
    "Y = [1, 2, 3]\n",
    "X.extend(Y) # extend for add the array of X\n",
    "print(X)     "
   ]
  },
  {
   "cell_type": "code",
   "execution_count": 35,
   "metadata": {},
   "outputs": [
    {
     "name": "stdout",
     "output_type": "stream",
     "text": [
      "['A', 'B', 'C', 1, 2, 3, 'D']\n"
     ]
    }
   ],
   "source": [
    "X.append(\"D\")   # append for add the array for X \n",
    "print(X)        "
   ]
  },
  {
   "cell_type": "code",
   "execution_count": 36,
   "metadata": {},
   "outputs": [
    {
     "name": "stdout",
     "output_type": "stream",
     "text": [
      "['A', 'D', 'B', 'C', 1, 2, 3, 'D']\n"
     ]
    }
   ],
   "source": [
    "X.insert(1, \"D\") # insert for inserting an array to index 1\n",
    "print(X)    "
   ]
  },
  {
   "cell_type": "code",
   "execution_count": 37,
   "metadata": {},
   "outputs": [
    {
     "name": "stdout",
     "output_type": "stream",
     "text": [
      "[]\n"
     ]
    }
   ],
   "source": [
    "X.clear() # celar for erase all the array value\n",
    "print(X)      "
   ]
  },
  {
   "cell_type": "code",
   "execution_count": 62,
   "metadata": {},
   "outputs": [
    {
     "name": "stdout",
     "output_type": "stream",
     "text": [
      "['A', 'B']\n"
     ]
    }
   ],
   "source": [
    "X = [\"A\", \"B\", \"C\"]\n",
    "Y = [1, 2, 3]\n",
    "X.pop() # pop for specify of the index which want to remove, default -1; the last index\n",
    "print(X)     "
   ]
  },
  {
   "cell_type": "code",
   "execution_count": 67,
   "metadata": {},
   "outputs": [
    {
     "name": "stdout",
     "output_type": "stream",
     "text": [
      "2\n"
     ]
    }
   ],
   "source": [
    "X = [\"A\", \"B\", \"C\"]\n",
    "x = X.index(\"C\") # index for search the given element\n",
    "print(x)"
   ]
  },
  {
   "cell_type": "code",
   "execution_count": 69,
   "metadata": {},
   "outputs": [
    {
     "name": "stdout",
     "output_type": "stream",
     "text": [
      "2\n"
     ]
    }
   ],
   "source": [
    "X = [\"A\", \"B\", 'B', \"C\"]\n",
    "x = X.count(\"B\") # count for counting the specific value     \n",
    "print(x)"
   ]
  },
  {
   "cell_type": "code",
   "execution_count": 71,
   "metadata": {},
   "outputs": [
    {
     "name": "stdout",
     "output_type": "stream",
     "text": [
      "['A', 'B', 'C', 'D', 'E']\n"
     ]
    }
   ],
   "source": [
    "X = [\"C\", \"A\", \"B\", 'D', 'E']\n",
    "X.sort() # to sorting for a-z, 1-10\n",
    "print(X)"
   ]
  },
  {
   "cell_type": "code",
   "execution_count": 73,
   "metadata": {},
   "outputs": [
    {
     "name": "stdout",
     "output_type": "stream",
     "text": [
      "['E', 'D', 'B', 'A', 'C']\n"
     ]
    }
   ],
   "source": [
    "X = [\"C\", \"A\", \"B\", 'D', 'E']\n",
    "X.reverse() # to reverses the elements of the list\n",
    "print(X) "
   ]
  },
  {
   "cell_type": "code",
   "execution_count": 74,
   "metadata": {},
   "outputs": [
    {
     "name": "stdout",
     "output_type": "stream",
     "text": [
      "['C', 'A', 'B', 'D', 'E']\n"
     ]
    }
   ],
   "source": [
    "X = [\"C\", \"A\", \"B\", 'D', 'E']\n",
    "X2 = X.copy() # to copy the elements of the list\n",
    "print(X2)"
   ]
  },
  {
   "cell_type": "markdown",
   "metadata": {},
   "source": [
    "#### dictionary"
   ]
  },
  {
   "cell_type": "code",
   "execution_count": 75,
   "metadata": {},
   "outputs": [
    {
     "name": "stdout",
     "output_type": "stream",
     "text": [
      "Divisi dengan kode 71: IT\n"
     ]
    }
   ],
   "source": [
    "# define dictionary\n",
    "id_divisi = {\n",
    "    71 : 'IT',\n",
    "    82 : 'Finance',\n",
    "    91 : 'Data'\n",
    "}\n",
    "\n",
    "# accessing dictionary data with key\n",
    "print(\"Divisi dengan kode 71:\", id_divisi[71])"
   ]
  },
  {
   "cell_type": "code",
   "execution_count": 76,
   "metadata": {},
   "outputs": [
    {
     "data": {
      "text/plain": [
       "'Monday'"
      ]
     },
     "execution_count": 76,
     "metadata": {},
     "output_type": "execute_result"
    }
   ],
   "source": [
    "days_in_a_week = {\n",
    "        \"Mon\": \"Monday\",\n",
    "        \"Tue\": \"Tuesday\",\n",
    "        \"Wed\": \"Wednesday\",\n",
    "        \"Thu\": \"Thursday\",\n",
    "        \"Fri\": \"Friday\",\n",
    "        \"Sat\": \"Saturday\",\n",
    "        \"Sun\": \"Sunday\"\n",
    "    }\n",
    "days_in_a_week[\"Mon\"]   "
   ]
  },
  {
   "cell_type": "markdown",
   "metadata": {},
   "source": [
    "#### for loop"
   ]
  },
  {
   "cell_type": "code",
   "execution_count": 77,
   "metadata": {},
   "outputs": [
    {
     "name": "stdout",
     "output_type": "stream",
     "text": [
      "1\n",
      "2\n",
      "3\n",
      "4\n",
      "5\n"
     ]
    }
   ],
   "source": [
    "#for loops\n",
    "angka = [1,2,3,4,5]\n",
    "for x in angka:\n",
    "    print(x)"
   ]
  },
  {
   "cell_type": "code",
   "execution_count": 78,
   "metadata": {},
   "outputs": [
    {
     "name": "stdout",
     "output_type": "stream",
     "text": [
      "Saya suka makan nanas\n",
      "Saya suka makan apel\n",
      "Saya suka makan jeruk\n"
     ]
    }
   ],
   "source": [
    "#for loops\n",
    "buah = [\"nanas\", \"apel\", \"jeruk\"]\n",
    "for makanan in buah:\n",
    "    print (\"Saya suka makan\", makanan)"
   ]
  },
  {
   "cell_type": "code",
   "execution_count": 80,
   "metadata": {},
   "outputs": [
    {
     "name": "stdout",
     "output_type": "stream",
     "text": [
      "The count is:  0\n",
      "The count is:  1\n",
      "The count is:  2\n",
      "The count is:  3\n",
      "Good bye!\n"
     ]
    }
   ],
   "source": [
    "#while loops\n",
    "count = 0\n",
    "while (count < 4):\n",
    "    print (\"The count is: \", count)\n",
    "    count = count + 1\n",
    "\n",
    "print (\"Good bye!\")"
   ]
  },
  {
   "cell_type": "code",
   "execution_count": 82,
   "metadata": {},
   "outputs": [
    {
     "name": "stdout",
     "output_type": "stream",
     "text": [
      "2  is prime\n",
      "3  is prime\n",
      "5  is prime\n",
      "7  is prime\n",
      "11  is prime\n",
      "13  is prime\n",
      "17  is prime\n",
      "19  is prime\n",
      "23  is prime\n",
      "29  is prime\n",
      "31  is prime\n",
      "37  is prime\n",
      "41  is prime\n",
      "43  is prime\n",
      "47  is prime\n",
      "Good bye!\n"
     ]
    }
   ],
   "source": [
    "#Nested Loops\n",
    "i = 2\n",
    "while(i < 50):\n",
    "    j = 2\n",
    "    while(j <= (i/j)):\n",
    "        if not(i%j): break\n",
    "        j = j + 1\n",
    "    if (j > i/j) : print(i, \" is prime\")\n",
    "    i = i + 1\n",
    "\n",
    "print(\"Good bye!\")"
   ]
  },
  {
   "cell_type": "code",
   "execution_count": null,
   "metadata": {},
   "outputs": [],
   "source": []
  },
  {
   "cell_type": "markdown",
   "metadata": {},
   "source": [
    "#### exercise"
   ]
  },
  {
   "cell_type": "code",
   "execution_count": 32,
   "metadata": {},
   "outputs": [
    {
     "name": "stdout",
     "output_type": "stream",
     "text": [
      "volume of the cubic is:  24\n"
     ]
    }
   ],
   "source": [
    "# Excercise\n",
    "# Buatlah sebuah fungsi untuk menghitung volume balok \n",
    "# Valume balok = length x width x height\n",
    "def volumeBalok(length, width, height):\n",
    "  #rumus\n",
    "  Volume = length * width * height\n",
    "  #cetak hasil\n",
    "  print('volume of the cubic is: ', Volume)\n",
    "\n",
    "#panggil fungsi volume balok\n",
    "volumeBalok(2, 3, 4)"
   ]
  },
  {
   "cell_type": "code",
   "execution_count": 97,
   "metadata": {},
   "outputs": [
    {
     "name": "stdout",
     "output_type": "stream",
     "text": [
      "Sum of odd:  25\n"
     ]
    }
   ],
   "source": [
    "# Buat program untuk menghitung jumlah seluruh angka ganjil dalam suatu list\n",
    "# Input: list berisi angka-angka\n",
    "# Output: jumlah seluruh angka ganjil \n",
    "\n",
    "def odd_number(odd_input):\n",
    "    odd_list = odd_input.split() # splitting input of string variable\n",
    "    # print(odd_list) # checking list of odd_list\n",
    "    length = 0\n",
    "    for odd in odd_list: # looping for odd array\n",
    "        odd = int(odd) # changing character for sum\n",
    "        if odd % 2 != 0: # if statements to check the odd number in list\n",
    "            length += odd # addition to knowing the total of odd\n",
    "    print('Sum of odd: ', length)\n",
    "\n",
    "odd_input = input('odd number separated by space') # input\n",
    "odd_number(odd_input)"
   ]
  },
  {
   "cell_type": "code",
   "execution_count": 147,
   "metadata": {},
   "outputs": [
    {
     "name": "stdout",
     "output_type": "stream",
     "text": [
      "    * \n",
      "  * * * \n",
      "* * * * * \n"
     ]
    }
   ],
   "source": [
    "# Diberikan input suatu angka, tampilkan formasi piramida bintang dengan tinggi sesuai dengan angka yang diinputkan\n",
    "# Input: suatu angka (n)\n",
    "# Output: piramida dengan tinggi n\n",
    "\n",
    "#    * [1]\n",
    "#   *** [3]\n",
    "#  *****  [5] contoh output untuk n = 5\n",
    "# ******* [7]\n",
    "#********* [9]\n",
    "\n",
    "def pyramid(pyramid_input):\n",
    "    prime = 0 # prime number of stars\n",
    "\n",
    "    for height in range(1, pyramid_input + 1): # height of the pyramids\n",
    "        \n",
    "        for pyramid in range(1, (pyramid_input - height) + 1): # making pyramids\n",
    "            print(end ='  ')\n",
    "\n",
    "        while prime != (2 * height - 1): # for the prime stars\n",
    "            print('* ', end = '')\n",
    "            prime += 1 # next prime\n",
    "        prime = 0 # to stop\n",
    "\n",
    "        print('\\r')\n",
    "\n",
    "pyramid_input = int(input('how tall the star pyramid is?')) # input\n",
    "pyramid(pyramid_input)"
   ]
  },
  {
   "cell_type": "markdown",
   "metadata": {},
   "source": [
    "### Python 2\n",
    "\n",
    "Date: 19th of May 2022\n",
    "\n",
    "Outcome:\n",
    "- Class and Object, OOP, Methods\n",
    "- Writing the script\n",
    "- Quiz"
   ]
  },
  {
   "cell_type": "markdown",
   "metadata": {},
   "source": [
    "#### class"
   ]
  },
  {
   "cell_type": "code",
   "execution_count": 1,
   "metadata": {},
   "outputs": [
    {
     "name": "stdout",
     "output_type": "stream",
     "text": [
      "apel adalah buah\n",
      "apel\n",
      "warna merah\n",
      "apel adalah buah\n"
     ]
    }
   ],
   "source": [
    "# making class\n",
    "class apel(): \n",
    "\tdef __init__(self):\n",
    "\t\tsuper().__init__()\n",
    "\t\tprint(\"apel adalah buah\")\n",
    "\tdef apaIni(self):\n",
    "\t\tprint(\"apel\")\n",
    "\tdef warna(self):\n",
    "\t\tprint(\"warna merah\")\n",
    "\n",
    "A = apel()\n",
    "A.apaIni()\n",
    "A.warna()\n",
    "A.__init__()"
   ]
  },
  {
   "cell_type": "code",
   "execution_count": 2,
   "metadata": {},
   "outputs": [
    {
     "name": "stdout",
     "output_type": "stream",
     "text": [
      "900\n",
      "1000\n",
      "<__main__.komputer object at 0x7fae10527820>\n"
     ]
    }
   ],
   "source": [
    "class komputer() :\n",
    "  def __init__(self):\n",
    "    self.__maxprice = 900\n",
    "    print(self.__maxprice)\n",
    "  def sell(self,price):\n",
    "    self.__maxprice = price\n",
    "    print(self.__maxprice)\n",
    "    \n",
    "c = komputer()\n",
    "c.sell(1000)\n",
    "print(c)\n"
   ]
  },
  {
   "cell_type": "code",
   "execution_count": 3,
   "metadata": {},
   "outputs": [
    {
     "name": "stdout",
     "output_type": "stream",
     "text": [
      "beo terbang\n",
      "beo merah\n",
      "merpati terbang\n",
      "merpati putih\n"
     ]
    }
   ],
   "source": [
    "class beo :\n",
    "\tdef terbang(self):\n",
    "\t\tprint(\"beo terbang\")\n",
    "\tdef warna (self):\n",
    "\t\tprint(\"beo merah\")\n",
    "\n",
    "class merpati :\n",
    "\tdef terbang(self):\n",
    "\t\tprint(\"merpati terbang\")\n",
    "\tdef warna (self):\n",
    "\t\tprint(\"merpati putih\")\n",
    "\n",
    "def terbang(burung):\n",
    "  burung.terbang()\n",
    "  burung.warna()\n",
    "\n",
    "Beo=beo()\n",
    "Merpati = merpati()\n",
    "\n",
    "terbang(Beo)\n",
    "terbang(Merpati)"
   ]
  },
  {
   "cell_type": "code",
   "execution_count": 4,
   "metadata": {},
   "outputs": [
    {
     "name": "stdout",
     "output_type": "stream",
     "text": [
      "3\n",
      "5\n"
     ]
    }
   ],
   "source": [
    "class Point():\n",
    "  def __init__(self, x= 0,y=0):\n",
    "    self.x = x\n",
    "    self.y = y\n",
    "    hasil  = x+y\n",
    "    print(hasil)\n",
    "\n",
    "p1 = Point(1,2)\n",
    "p2 = Point(2, 3)"
   ]
  },
  {
   "cell_type": "code",
   "execution_count": 5,
   "metadata": {},
   "outputs": [
    {
     "data": {
      "text/plain": [
       "2"
      ]
     },
     "execution_count": 5,
     "metadata": {},
     "output_type": "execute_result"
    }
   ],
   "source": [
    "listku = [1,2,3,4,5]\n",
    "myIter = iter(listku)\n",
    "next(myIter)\n",
    "next(myIter)"
   ]
  },
  {
   "cell_type": "code",
   "execution_count": 6,
   "metadata": {},
   "outputs": [
    {
     "name": "stdout",
     "output_type": "stream",
     "text": [
      "baju\n",
      "pita\n"
     ]
    }
   ],
   "source": [
    "class lemari() :\n",
    "  def __init__(self, barang=\"baju\"):\n",
    "   self.set_barang(barang)\n",
    "  def get_barang(self):\n",
    "   return self._barang\n",
    "  def set_barang(self, barang):\n",
    "   self._barang = barang\n",
    "   print(barang) \n",
    "    \n",
    "d = lemari()\n",
    "d.get_barang()\n",
    "d.set_barang(\"pita\")"
   ]
  },
  {
   "cell_type": "markdown",
   "metadata": {},
   "source": [
    "#### regex"
   ]
  },
  {
   "cell_type": "markdown",
   "metadata": {},
   "source": [
    "Regex adalah singkatan dari Regular Expresion.\n",
    "\n",
    "Regex merupakan sebuah teks (string) yang mendefinisikan sebuah pola pencarian sehingga dapat membantu kita untuk melakukan matching (pencocokan), locate (pencarian), dan manipulasi teks."
   ]
  },
  {
   "cell_type": "code",
   "execution_count": 7,
   "metadata": {},
   "outputs": [
    {
     "name": "stdout",
     "output_type": "stream",
     "text": [
      "['15', '34', '12544162']\n"
     ]
    }
   ],
   "source": [
    "import re\n",
    "\n",
    "string = 'haii 15. Nomor kamu 34. NOmor dia 12544162'\n",
    "pattern = '\\d+' # \\d is a digit, \\d+ means 1 or more digits\n",
    "\n",
    "result = re.findall(pattern, string) # find expression of 1 or more digits\n",
    "print(result)"
   ]
  },
  {
   "cell_type": "code",
   "execution_count": 8,
   "metadata": {},
   "outputs": [
    {
     "name": "stdout",
     "output_type": "stream",
     "text": [
      "['haii ', '. Nomor kamu ', '']\n"
     ]
    }
   ],
   "source": [
    "string = 'haii 15. Nomor kamu 34'\n",
    "pattern = '\\d+'\n",
    "\n",
    "result = re.split(pattern, string) # skip the pattern of digits\n",
    "print(result)"
   ]
  },
  {
   "cell_type": "code",
   "execution_count": 9,
   "metadata": {},
   "outputs": [
    {
     "name": "stdout",
     "output_type": "stream",
     "text": [
      "2\n",
      "6\n",
      "3\n",
      "18\n"
     ]
    }
   ],
   "source": [
    "def coba(n):\n",
    "  print(n)\n",
    "  return lambda a : a * n\n",
    "\n",
    "test1 = coba(2)\n",
    "print(test1(3))\n",
    "\n",
    "test2 = coba(3)\n",
    "print(test2(6))"
   ]
  },
  {
   "cell_type": "code",
   "execution_count": 12,
   "metadata": {},
   "outputs": [
    {
     "name": "stdout",
     "output_type": "stream",
     "text": [
      "021 8229311 adalah nomor telepon: True\n",
      "Hello Hello adalah nomor telepon: False\n"
     ]
    }
   ],
   "source": [
    "#Mencari Teks tanpa regex\n",
    "def is_phone_number(text):\n",
    "    if len(text) != 11:\n",
    "        return False\n",
    "    for i in range(0, 3):\n",
    "      if not text[i].isdecimal():\n",
    "        return False\n",
    "      if text[3] != ' ':\n",
    "        return False\n",
    "    for i in range(4, 11):\n",
    "        if not text[i].isdecimal():\n",
    "            return False\n",
    "    return True\n",
    "\n",
    "print('021 8229311 adalah nomor telepon:', is_phone_number('021 8229311'))\n",
    "print('Hello Hello adalah nomor telepon:', is_phone_number('Hello Hello'))"
   ]
  },
  {
   "cell_type": "code",
   "execution_count": 13,
   "metadata": {},
   "outputs": [
    {
     "name": "stdout",
     "output_type": "stream",
     "text": [
      "Nomor telepon ditemukan: 061 7981011\n",
      "Nomor telepon ditemukan: 061 7939999\n"
     ]
    }
   ],
   "source": [
    "#Mencari Teks dengan regex\n",
    "pesan = 'Panggil saya di nomor 061 7981011 besok. Kalau sore bisa hubungi kantor saya di 061 7939999.'\n",
    "\n",
    "for i in range(len(pesan)):\n",
    "    text = pesan[ i : i + 11]\n",
    "    if is_phone_number(text):\n",
    "        print(\"Nomor telepon ditemukan:\", text)"
   ]
  },
  {
   "cell_type": "code",
   "execution_count": 18,
   "metadata": {},
   "outputs": [
    {
     "name": "stdout",
     "output_type": "stream",
     "text": [
      "021 8273467\n",
      "021\n",
      "8273467\n"
     ]
    }
   ],
   "source": [
    "#Membuat Objek Regex\n",
    "import re\n",
    "no_telp_regex = re.compile(r'(\\d\\d\\d) (\\d\\d\\d\\d\\d\\d\\d)')\n",
    "mo = no_telp_regex.search('Nomor telepon saya 021 8273467.')\n",
    "print(mo.group())\n",
    "print(mo.group(1))\n",
    "print(mo.group(2))"
   ]
  },
  {
   "cell_type": "code",
   "execution_count": 19,
   "metadata": {},
   "outputs": [
    {
     "name": "stdout",
     "output_type": "stream",
     "text": [
      "021\n",
      "8273467\n"
     ]
    }
   ],
   "source": [
    "mo.groups()\n",
    "kode_area, no_telp = mo.groups()\n",
    "print(kode_area)\n",
    "print(no_telp)"
   ]
  },
  {
   "cell_type": "markdown",
   "metadata": {},
   "source": [
    "### exercise"
   ]
  },
  {
   "cell_type": "code",
   "execution_count": 20,
   "metadata": {},
   "outputs": [
    {
     "name": "stdout",
     "output_type": "stream",
     "text": [
      "Pilihlah nomer dibawah ini.\n",
      "1.Tambah\n",
      "2.Kurang\n",
      "3.Kali\n",
      "4.Pembagian\n",
      "8.0 - 9.0 = -1.0\n"
     ]
    }
   ],
   "source": [
    "def tambah(x, y):\n",
    "    return x + y\n",
    "\n",
    "def pengurangan(x, y):\n",
    "    return x - y\n",
    "\n",
    "def perkalian(x, y):\n",
    "    return x * y\n",
    "\n",
    "def bagi(x, y):\n",
    "    return x / y\n",
    "\n",
    "\n",
    "print(\"Pilihlah nomer dibawah ini.\")\n",
    "print(\"1.Tambah\")\n",
    "print(\"2.Kurang\")\n",
    "print(\"3.Kali\")\n",
    "print(\"4.Pembagian\")\n",
    "\n",
    "while True:\n",
    "    # take input from the user\n",
    "    choice = input(\"Masukkan pilihan anda(1/2/3/4): \")\n",
    "\n",
    "    # check if choice is one of the four options\n",
    "    if choice in ('1', '2', '3', '4'):\n",
    "        num1 = float(input(\"Masukkan angka petama : \"))\n",
    "        num2 = float(input(\"Masukkan angka kedua : \"))\n",
    "\n",
    "        if choice == '1':\n",
    "            print(num1, \"+\", num2, \"=\", tambah(num1, num2))\n",
    "\n",
    "        elif choice == '2':\n",
    "            print(num1, \"-\", num2, \"=\", pengurangan(num1, num2))\n",
    "\n",
    "        elif choice == '3':\n",
    "            print(num1, \"*\", num2, \"=\", perkalian(num1, num2))\n",
    "\n",
    "        elif choice == '4':\n",
    "            print(num1, \"/\", num2, \"=\", bagi(num1, num2))\n",
    "        \n",
    "        # check if user wants another calculation\n",
    "        # break the while loop if answer is no\n",
    "        next_calculation = input(\"Masih ingin melanjutkan? (yes/no): \")\n",
    "        if next_calculation == \"no\":\n",
    "          break\n",
    "    \n",
    "    else:\n",
    "        print(\"Invalid Input\")"
   ]
  },
  {
   "cell_type": "code",
   "execution_count": null,
   "metadata": {},
   "outputs": [],
   "source": []
  }
 ],
 "metadata": {
  "interpreter": {
   "hash": "916dbcbb3f70747c44a77c7bcd40155683ae19c65e1c03b4aa3499c5328201f1"
  },
  "kernelspec": {
   "display_name": "Python 3.8.10 64-bit",
   "language": "python",
   "name": "python3"
  },
  "language_info": {
   "codemirror_mode": {
    "name": "ipython",
    "version": 3
   },
   "file_extension": ".py",
   "mimetype": "text/x-python",
   "name": "python",
   "nbconvert_exporter": "python",
   "pygments_lexer": "ipython3",
   "version": "3.8.10"
  },
  "orig_nbformat": 4
 },
 "nbformat": 4,
 "nbformat_minor": 2
}
