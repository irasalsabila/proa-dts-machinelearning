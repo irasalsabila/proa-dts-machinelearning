{
 "cells": [
  {
   "cell_type": "markdown",
   "metadata": {},
   "source": [
    "### linear algrebra"
   ]
  },
  {
   "cell_type": "markdown",
   "metadata": {},
   "source": [
    "NumPy adalah package array tujuan umum. Ini menyediakan objek array multidimensi berkinerja tinggi, dan alat untuk bekerja dengan array ini. Ini adalah standard package untuk komputasi ilmiah dengan Python. Numpy pada dasarnya digunakan untuk membuat array n dimensi."
   ]
  },
  {
   "cell_type": "code",
   "execution_count": 1,
   "metadata": {},
   "outputs": [
    {
     "data": {
      "text/plain": [
       "array([23.6375    , -3.69166667,  0.0875    ])"
      ]
     },
     "execution_count": 1,
     "metadata": {},
     "output_type": "execute_result"
    }
   ],
   "source": [
    "import numpy as np\n",
    "\n",
    "A = [[1, 3, 5], [7, 12, 21], [5, 18, 3]]\n",
    "B = [13, 123, 52]\n",
    "\n",
    "# linalg.solve to solve a linear matrix equation or system of linear scalar equations\n",
    "np.linalg.solve(A, B) "
   ]
  },
  {
   "cell_type": "markdown",
   "metadata": {},
   "source": [
    "### Vektor"
   ]
  },
  {
   "cell_type": "markdown",
   "metadata": {},
   "source": [
    "Vektor dibangun dari komponen, yang merupakan bilangan biasa. Kita dapat menganggap vektor sebagai daftar bilangan, dan aljabar vektor sebagai operasi yang dilakukan pada bilangan dalam daftar. Dengan kata lain vektor adalah array 1-D numpy."
   ]
  },
  {
   "cell_type": "code",
   "execution_count": 4,
   "metadata": {},
   "outputs": [
    {
     "name": "stdout",
     "output_type": "stream",
     "text": [
      "We create a vector from a list:  [10 20 30 40 50]\n"
     ]
    }
   ],
   "source": [
    "# Horizontal Vector\n",
    "\n",
    "# creating list  \n",
    "list1 = [10, 20, 30, 40, 50]  \n",
    "\n",
    "# Creating 1-D Horizontal Array  \n",
    "vtr = np.array(list1) \n",
    " \n",
    "print(\"We create a vector from a list: \", vtr)  "
   ]
  },
  {
   "cell_type": "code",
   "execution_count": 6,
   "metadata": {},
   "outputs": [
    {
     "name": "stdout",
     "output_type": "stream",
     "text": [
      "We create a vector from a list: \n",
      " [[12]\n",
      " [40]\n",
      " [ 6]\n",
      " [10]]\n"
     ]
    }
   ],
   "source": [
    "# Vertical list \n",
    "\n",
    "#  creating list\n",
    "list1 = [[12], [40], [6],[10]]  \n",
    "  \n",
    "# Creating 1-D Vertical Array  \n",
    "vtr = np.array(list1)  \n",
    "\n",
    "print(\"We create a vector from a list: \\n\", vtr)  "
   ]
  },
  {
   "cell_type": "markdown",
   "metadata": {},
   "source": [
    "Below is the list of basic operations that we can perform in vector.\n",
    "\n",
    "    Arithmetic\n",
    "    Subtraction\n",
    "    Multiplication\n",
    "    Division\n",
    "    Dot Product\n",
    "    Scalar Multiplications"
   ]
  },
  {
   "cell_type": "code",
   "execution_count": 7,
   "metadata": {},
   "outputs": [
    {
     "name": "stdout",
     "output_type": "stream",
     "text": [
      "We create vector from a list 1:  [10 20 30 40 50]\n",
      "We create vector from a list 2:  [11 12 13 14 15]\n",
      "Addition of two vectors:  [21 32 43 54 65]\n"
     ]
    }
   ],
   "source": [
    "#Addition of 2 vector\n",
    "\n",
    "list1 = [10,20,30,40,50] # horizontal list\n",
    "list2 = [11,12,13,14,15]    \n",
    "   \n",
    "vtr1 = np.array(list1)   \n",
    "vtr2= np.array(list2)   \n",
    "  \n",
    "print(\"We create vector from a list 1: \", vtr1)   \n",
    "print(\"We create vector from a list 2: \", vtr2)   \n",
    "   \n",
    "vctr_add = vtr1 + vtr2  \n",
    "print(\"Addition of two vectors: \", vctr_add)  "
   ]
  },
  {
   "cell_type": "code",
   "execution_count": 8,
   "metadata": {},
   "outputs": [
    {
     "name": "stdout",
     "output_type": "stream",
     "text": [
      "We create vector from a list 1:  [10 20 30 40 50]\n",
      "We create vector from a list 2:  [5 2 4 3 1]\n",
      "Subtraction of two vectors:  [ 5 18 26 37 49]\n"
     ]
    }
   ],
   "source": [
    "#Substraction \n",
    "\n",
    "list1 = [10,20,30,40,50]   \n",
    "list2 = [5,2,4,3,1]  \n",
    "   \n",
    "vtr1 = np.array(list1)   \n",
    "vtr2 = np.array(list2)   \n",
    "   \n",
    "print(\"We create vector from a list 1: \", vtr1)   \n",
    "print(\"We create vector from a list 2: \", vtr2)   \n",
    "  \n",
    "vtr_sub = vtr1 - vtr2  \n",
    "print(\"Subtraction of two vectors: \", vtr_sub)  "
   ]
  },
  {
   "cell_type": "code",
   "execution_count": 9,
   "metadata": {},
   "outputs": [
    {
     "name": "stdout",
     "output_type": "stream",
     "text": [
      "We create vector from a list 1:  [10 20 30 40 50]\n",
      "We create vector from a list 2:  [5 2 4 3 1]\n",
      "Multiplication of two vectors:  [ 50  40 120 120  50]\n"
     ]
    }
   ],
   "source": [
    "#multiplication\n",
    "\n",
    "list1 = [10,20,30,40,50]   \n",
    "list2 = [5,2,4,3,1]  \n",
    "   \n",
    "vtr1 = np.array(list1)      \n",
    "vtr2= np.array(list2)   \n",
    "   \n",
    "print(\"We create vector from a list 1: \", vtr1)   \n",
    "print(\"We create vector from a list 2: \", vtr2)   \n",
    "  \n",
    "vtr_mul = vtr1 * vtr2  \n",
    "print(\"Multiplication of two vectors: \", vtr_mul)  \n",
    "\n",
    "#Multiplication didapat dari : \n",
    "#vct[0] = x[0] * y[0]\n",
    "#vct[1] = x[1] * y[1]"
   ]
  },
  {
   "cell_type": "code",
   "execution_count": 10,
   "metadata": {},
   "outputs": [
    {
     "name": "stdout",
     "output_type": "stream",
     "text": [
      "We create vector from a list 1:  [10 20 30 40 50]\n",
      "We create vector from a list 2:  [5 2 4 3 1]\n",
      "Division of two vectors:  [ 2.         10.          7.5        13.33333333 50.        ]\n"
     ]
    }
   ],
   "source": [
    "#Division of 2 vector\n",
    "list1 = [10,20,30,40,50]   \n",
    "list2 = [5,2,4,3,1]  \n",
    "   \n",
    "vtr1 = np.array(list1)  \n",
    "vtr2 = np.array(list2)   \n",
    "   \n",
    "print(\"We create vector from a list 1: \", vtr1)   \n",
    "print(\"We create vector from a list 2: \", vtr2)  \n",
    "  \n",
    "vtr_div = vtr1 / vtr2  \n",
    "print(\"Division of two vectors: \", vtr_div) "
   ]
  },
  {
   "cell_type": "code",
   "execution_count": 11,
   "metadata": {},
   "outputs": [
    {
     "name": "stdout",
     "output_type": "stream",
     "text": [
      "We create vector from a list 1:  [10 20 30 40 50]\n",
      "We create vector from a list 2:  [5 2 4 3 1]\n",
      "Dot product of two vectors:  380\n"
     ]
    }
   ],
   "source": [
    "# Vector Dot Product\n",
    "# The vector dot product performs between the two same-length sequential vectors and returns the single dot product. \n",
    "# We will use the .dot() method to perform the dot product \n",
    "# vector c = x . y = (x1 * y1 + x2 * y2) \n",
    "\n",
    "list1 = [10,20,30,40,50]   \n",
    "list2 = [5,2,4,3,1]  \n",
    "   \n",
    "vtr1 = np.array(list1)    \n",
    "vtr2= np.array(list2)   \n",
    "   \n",
    "print(\"We create vector from a list 1: \", vtr1)   \n",
    "print(\"We create vector from a list 2: \", vtr2) \n",
    "  \n",
    "vtr_product = vtr1.dot(vtr2)  \n",
    "print(\"Dot product of two vectors: \",vtr_product)  "
   ]
  },
  {
   "cell_type": "code",
   "execution_count": 12,
   "metadata": {},
   "outputs": [
    {
     "name": "stdout",
     "output_type": "stream",
     "text": [
      "We create vector from a list 1:  [10 20 30 40 50]\n",
      "Scalar Value  : 5\n",
      "Multiplication of two vectors:  [ 50 100 150 200 250]\n"
     ]
    }
   ],
   "source": [
    "# Vector scalar\n",
    "# we multiply the scalar with the each component of the vector\n",
    "\n",
    "list1 = [10,20,30,40,50]   \n",
    "vtr1 = np.array(list1)   \n",
    "scalar_value = 5  \n",
    "       \n",
    "print(\"We create vector from a list 1: \", vtr1)   \n",
    "      \n",
    "# printing scalar value   \n",
    "print(\"Scalar Value  : \" + str(scalar_value))   \n",
    "       \n",
    "vtr_scalar = vtr1 * scalar_value  \n",
    "print(\"Multiplication of two vectors: \", vtr_scalar)  "
   ]
  },
  {
   "cell_type": "markdown",
   "metadata": {},
   "source": [
    "### Projection Vector"
   ]
  },
  {
   "cell_type": "code",
   "execution_count": 14,
   "metadata": {},
   "outputs": [
    {
     "name": "stdout",
     "output_type": "stream",
     "text": [
      "Projection of Vector u on Vector v is:  [1.76923077 2.12307692 0.70769231]\n",
      "Projection of Vector u on Vector v is:  [1.64285714 3.28571429 4.92857143]\n"
     ]
    }
   ],
   "source": [
    "u = np.array([1, 2, 3]) # vector u, horizontal vector\n",
    "v = np.array([5, 6, 2]) # vector v, horizontal vector\n",
    "\n",
    "# Task: Project vector u on vector v\n",
    "\n",
    "# finding norm of the vector v\n",
    "v_norm = np.sqrt(sum(v ** 2))\n",
    "\n",
    "# finding norm of the vector u\n",
    "u_norm = np.sqrt(sum(u ** 2))\n",
    "\n",
    "# Apply the formula as mentioned above\n",
    "# for projecting a vector onto another vector\n",
    "# find dot product using np.dot()\n",
    "proj_of_u_on_v = (np.dot(u, v) / v_norm ** 2) * v\n",
    "print(\"Projection of Vector u on Vector v is: \", proj_of_u_on_v)\n",
    "\n",
    "proj_of_v_on_u = (np.dot(u, v) / u_norm ** 2) * u\n",
    "print(\"Projection of Vector u on Vector v is: \", proj_of_v_on_u)"
   ]
  },
  {
   "cell_type": "markdown",
   "metadata": {},
   "source": [
    "### Basis"
   ]
  },
  {
   "cell_type": "code",
   "execution_count": 15,
   "metadata": {},
   "outputs": [
    {
     "name": "stdout",
     "output_type": "stream",
     "text": [
      "[0.8 1.4]\n"
     ]
    }
   ],
   "source": [
    "# old vector list\n",
    "vec_old = [3, 4]\n",
    "\n",
    "# Standard\n",
    "w1 = [-2, 4]\n",
    "w2 = [2, 1]\n",
    "\n",
    "# new basis\n",
    "# linalg.inv is used to compute the multiplicative inverse of a matrix\n",
    "vec_new = np.linalg.inv(np.array([w2,w1])).dot(vec_old)\n",
    "print(vec_new)"
   ]
  },
  {
   "cell_type": "code",
   "execution_count": 16,
   "metadata": {},
   "outputs": [
    {
     "name": "stdout",
     "output_type": "stream",
     "text": [
      "[1. 3. 2.]\n"
     ]
    }
   ],
   "source": [
    "# old vector list\n",
    "vec_old = [1,2,3]\n",
    "\n",
    "# standard\n",
    "w1 = [1, 0, 0]\n",
    "w2 = [0, 0, 1]\n",
    "w3 = [0, 1, 0]\n",
    "\n",
    "# new basis\n",
    "# linalg.inv is used to compute the multiplicative inverse of a matrix\n",
    "vec_new = np.linalg.inv(np.array([w1, w2, w3])).dot(vec_old)\n",
    "print(vec_new)"
   ]
  },
  {
   "cell_type": "code",
   "execution_count": null,
   "metadata": {},
   "outputs": [],
   "source": []
  }
 ],
 "metadata": {
  "interpreter": {
   "hash": "916dbcbb3f70747c44a77c7bcd40155683ae19c65e1c03b4aa3499c5328201f1"
  },
  "kernelspec": {
   "display_name": "Python 3.8.10 64-bit",
   "language": "python",
   "name": "python3"
  },
  "language_info": {
   "codemirror_mode": {
    "name": "ipython",
    "version": 3
   },
   "file_extension": ".py",
   "mimetype": "text/x-python",
   "name": "python",
   "nbconvert_exporter": "python",
   "pygments_lexer": "ipython3",
   "version": "3.8.10"
  },
  "orig_nbformat": 4
 },
 "nbformat": 4,
 "nbformat_minor": 2
}
