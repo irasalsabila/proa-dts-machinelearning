{
 "cells": [
  {
   "cell_type": "code",
   "execution_count": 1,
   "metadata": {},
   "outputs": [
    {
     "name": "stdout",
     "output_type": "stream",
     "text": [
      "volume of the cubic is:  24\n"
     ]
    }
   ],
   "source": [
    "# Excercise\n",
    "# Buatlah sebuah fungsi untuk menghitung volume balok \n",
    "# Valume balok = length x width x height\n",
    "def volumeBalok(length, width, height):\n",
    "  #rumus\n",
    "  Volume = length * width * height\n",
    "  #cetak hasil\n",
    "  print('volume of the cubic is: ', Volume)\n",
    "\n",
    "#panggil fungsi volume balok\n",
    "volumeBalok(2, 3, 4)"
   ]
  },
  {
   "cell_type": "code",
   "execution_count": 2,
   "metadata": {},
   "outputs": [
    {
     "name": "stdout",
     "output_type": "stream",
     "text": [
      "Sum of odd:  25\n"
     ]
    }
   ],
   "source": [
    "# Buat program untuk menghitung jumlah seluruh angka ganjil dalam suatu list\n",
    "# Input: list berisi angka-angka\n",
    "# Output: jumlah seluruh angka ganjil \n",
    "\n",
    "def odd_number(odd_input):\n",
    "    odd_list = odd_input.split() # splitting input of string variable\n",
    "    # print(odd_list) # checking list of odd_list\n",
    "    length = 0\n",
    "    for odd in odd_list: # looping for odd array\n",
    "        odd = int(odd) # changing character for sum\n",
    "        if odd % 2 != 0: # if statements to check the odd number in list\n",
    "            length += odd # addition to knowing the total of odd\n",
    "    print('Sum of odd: ', length)\n",
    "\n",
    "odd_input = input('odd number separated by space') # input\n",
    "odd_number(odd_input)"
   ]
  },
  {
   "cell_type": "code",
   "execution_count": 3,
   "metadata": {},
   "outputs": [
    {
     "name": "stdout",
     "output_type": "stream",
     "text": [
      "        * \n",
      "      * * * \n",
      "    * * * * * \n",
      "  * * * * * * * \n",
      "* * * * * * * * * \n"
     ]
    }
   ],
   "source": [
    "# Diberikan input suatu angka, tampilkan formasi piramida bintang dengan tinggi sesuai dengan angka yang diinputkan\n",
    "# Input: suatu angka (n)\n",
    "# Output: piramida dengan tinggi n\n",
    "\n",
    "#    * [1]\n",
    "#   *** [3]\n",
    "#  *****  [5] contoh output untuk n = 5\n",
    "# ******* [7]\n",
    "#********* [9]\n",
    "\n",
    "def pyramid(pyramid_input):\n",
    "    prime = 0 # prime number of stars\n",
    "\n",
    "    for height in range(1, pyramid_input + 1): # height of the pyramids\n",
    "        \n",
    "        for pyramid in range(1, (pyramid_input - height) + 1): # making pyramids\n",
    "            print(end ='  ')\n",
    "\n",
    "        while prime != (2 * height - 1): # for the prime stars\n",
    "            print('* ', end = '')\n",
    "            prime += 1 # next prime\n",
    "        prime = 0 # to stop\n",
    "\n",
    "        print('\\r')\n",
    "\n",
    "pyramid_input = int(input('how tall the star pyramid is?')) # input\n",
    "pyramid(pyramid_input)"
   ]
  }
 ],
 "metadata": {
  "interpreter": {
   "hash": "916dbcbb3f70747c44a77c7bcd40155683ae19c65e1c03b4aa3499c5328201f1"
  },
  "kernelspec": {
   "display_name": "Python 3.8.10 64-bit",
   "language": "python",
   "name": "python3"
  },
  "language_info": {
   "codemirror_mode": {
    "name": "ipython",
    "version": 3
   },
   "file_extension": ".py",
   "mimetype": "text/x-python",
   "name": "python",
   "nbconvert_exporter": "python",
   "pygments_lexer": "ipython3",
   "version": "3.8.10"
  },
  "orig_nbformat": 4
 },
 "nbformat": 4,
 "nbformat_minor": 2
}
